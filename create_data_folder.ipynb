{
 "cells": [
  {
   "cell_type": "code",
   "execution_count": 12,
   "metadata": {},
   "outputs": [],
   "source": [
    "import os\n",
    "from os import listdir\n",
    "from os.path import isfile, join\n",
    "import random\n",
    "from shutil import copyfile, rmtree"
   ]
  },
  {
   "cell_type": "code",
   "execution_count": 13,
   "metadata": {},
   "outputs": [],
   "source": [
    "def generate_train_val_test_folder(root,destination,train_pourcent,val_pourcent):\n",
    "    styles = ['blues', 'classical', 'country', 'disco', 'hiphop', 'jazz', 'metal', 'pop', 'reggae', 'rock']\n",
    "    rmtree(destination)\n",
    "    if not os.path.exists(destination):\n",
    "        os.makedirs(destination)\n",
    "    folders = ['train','val','test']\n",
    "    for folder in folders:\n",
    "        if not os.path.exists(destination + '/' + folder):\n",
    "            os.makedirs(destination + '/' + folder) \n",
    "        for style in styles:\n",
    "            if not os.path.exists(destination + '/' + folder + '/' + style):\n",
    "                os.makedirs(destination + '/' + folder  + '/' + style) \n",
    "    for style in styles:\n",
    "        path = root + '/' + style\n",
    "        train_dest = destination + '/train/' + style\n",
    "        val_dest = destination + '/val/' + style\n",
    "        test_dest = destination + '/test/' + style\n",
    "        files = [f for f in listdir(path) if isfile(join(path, f))]\n",
    "        size = len(files)\n",
    "        random.shuffle(files)\n",
    "        train = files[: int(size * train_pourcent)]\n",
    "        val = files[int(size * train_pourcent):int(size * (train_pourcent+val_pourcent))]\n",
    "        test = files[int(size * (train_pourcent+val_pourcent)):]\n",
    "        for file in train:\n",
    "            copyfile(path + \"/\" + file, train_dest + \"/\" + file)\n",
    "        for file in val:\n",
    "            copyfile(path + \"/\" + file, val_dest + \"/\" + file)\n",
    "        for file in test:\n",
    "            copyfile(path + \"/\" + file, test_dest + \"/\" + file)"
   ]
  },
  {
   "cell_type": "code",
   "execution_count": 14,
   "metadata": {},
   "outputs": [],
   "source": [
    "generate_train_val_test_folder('genres_spectrograms','data',0.6,0.1)"
   ]
  },
  {
   "cell_type": "code",
   "execution_count": null,
   "metadata": {},
   "outputs": [],
   "source": []
  }
 ],
 "metadata": {
  "kernelspec": {
   "display_name": "Python 3",
   "language": "python",
   "name": "python3"
  },
  "language_info": {
   "codemirror_mode": {
    "name": "ipython",
    "version": 3
   },
   "file_extension": ".py",
   "mimetype": "text/x-python",
   "name": "python",
   "nbconvert_exporter": "python",
   "pygments_lexer": "ipython3",
   "version": "3.7.1"
  }
 },
 "nbformat": 4,
 "nbformat_minor": 2
}
